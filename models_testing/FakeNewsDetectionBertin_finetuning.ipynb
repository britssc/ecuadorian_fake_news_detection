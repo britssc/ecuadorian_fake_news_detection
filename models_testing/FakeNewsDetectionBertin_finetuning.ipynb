{
  "nbformat": 4,
  "nbformat_minor": 0,
  "metadata": {
    "colab": {
      "provenance": [],
      "gpuType": "T4",
      "include_colab_link": true
    },
    "kernelspec": {
      "name": "python3",
      "display_name": "Python 3"
    },
    "language_info": {
      "name": "python"
    },
    "accelerator": "GPU"
  },
  "cells": [
    {
      "cell_type": "markdown",
      "metadata": {
        "id": "view-in-github",
        "colab_type": "text"
      },
      "source": [
        "<a href=\"https://colab.research.google.com/github/britssc/ecuadorian_fake_news_detection/blob/main/FakeNewsDetectionBertin_finetuning.ipynb\" target=\"_parent\"><img src=\"https://colab.research.google.com/assets/colab-badge.svg\" alt=\"Open In Colab\"/></a>"
      ]
    },
    {
      "cell_type": "markdown",
      "source": [
        "# Fake News Detection: BERTIN Model Fine-Tuning Process\n",
        "\n",
        "Ecuador's 2025 Election Dataset (623 News)\n",
        "\n",
        "Model Website: https://huggingface.co/bertin-project/bertin-roberta-base-spanish"
      ],
      "metadata": {
        "id": "h-BtdM7vi2bQ"
      }
    },
    {
      "cell_type": "markdown",
      "source": [
        "## Installations"
      ],
      "metadata": {
        "id": "HS4hUgfsC6XN"
      }
    },
    {
      "cell_type": "code",
      "source": [
        "%%capture\n",
        "!pip install transformers\n",
        "!pip install pytorch-lightning"
      ],
      "metadata": {
        "id": "uGj02aKjlOB1"
      },
      "execution_count": null,
      "outputs": []
    },
    {
      "cell_type": "markdown",
      "source": [
        "## Finetuning Bertin"
      ],
      "metadata": {
        "id": "ftW7m2mUkE-L"
      }
    },
    {
      "cell_type": "code",
      "source": [
        "import torch\n",
        "from torch.utils.data import DataLoader, Dataset\n",
        "from transformers import AutoTokenizer, AutoModelForSequenceClassification\n",
        "from sklearn.model_selection import train_test_split\n",
        "from sklearn.metrics import accuracy_score\n",
        "from sklearn.metrics import classification_report\n",
        "from transformers import pipeline\n",
        "from tqdm import tqdm\n",
        "import pandas as pd\n",
        "import numpy as np\n",
        "from torch.optim import AdamW"
      ],
      "metadata": {
        "id": "08IMrbAB1g-K"
      },
      "execution_count": null,
      "outputs": []
    },
    {
      "cell_type": "markdown",
      "source": [
        "## Dataset preparation"
      ],
      "metadata": {
        "id": "ef4i5MX-5exX"
      }
    },
    {
      "cell_type": "code",
      "source": [
        "class FakeNewsDataset(Dataset):\n",
        "    def __init__(self, texts, labels, tokenizer, max_length=512):\n",
        "        self.texts = texts\n",
        "        self.labels = labels\n",
        "        self.tokenizer = tokenizer\n",
        "        self.max_length = max_length\n",
        "        self.texts = list(texts)\n",
        "        self.labels = list(labels)\n",
        "\n",
        "    def __len__(self):\n",
        "        return len(self.texts)\n",
        "\n",
        "    def __getitem__(self, item):\n",
        "        text = self.texts[item]\n",
        "        label = self.labels[item]\n",
        "\n",
        "        encoding = self.tokenizer.encode_plus(\n",
        "            text,\n",
        "            add_special_tokens=True,\n",
        "            max_length=self.max_length,\n",
        "            truncation=True,\n",
        "            padding='max_length',\n",
        "            return_tensors='pt'\n",
        "        )\n",
        "\n",
        "        return {\n",
        "            'input_ids': encoding['input_ids'].flatten(),\n",
        "            'attention_mask': encoding['attention_mask'].flatten(),\n",
        "            'label': torch.tensor(label, dtype=torch.long)\n",
        "        }"
      ],
      "metadata": {
        "id": "S3myj4bh5fWa"
      },
      "execution_count": null,
      "outputs": []
    },
    {
      "cell_type": "code",
      "source": [
        "df = pd.read_csv('clean_data.csv')\n",
        "X = df['text'].values\n",
        "y = df['real'].values\n",
        "\n",
        "X_train, X_temp, y_train, y_temp = train_test_split(X, y, test_size=0.3, random_state=42)\n",
        "X_val, X_test, y_val, y_test = train_test_split(X_temp, y_temp, test_size=0.5, random_state=42)\n",
        "\n",
        "\n",
        "print(\"Number of training news:\", len(X_train))\n",
        "print(\"Number of validation news:\", len(X_val))\n",
        "print(\"Number of testing news:\", len(X_test))"
      ],
      "metadata": {
        "id": "LLQ5-7Sv4yRY"
      },
      "execution_count": null,
      "outputs": []
    },
    {
      "cell_type": "code",
      "source": [
        "model_name = \"bertin-project/bertin-roberta-base-spanish\"  # O el modelo que quieras usar\n",
        "tokenizer = AutoTokenizer.from_pretrained(model_name)"
      ],
      "metadata": {
        "id": "y6rYq1uV3B3H"
      },
      "execution_count": null,
      "outputs": []
    },
    {
      "cell_type": "code",
      "source": [
        "train_dataset = FakeNewsDataset(X_train, y_train, tokenizer)\n",
        "val_dataset = FakeNewsDataset(X_val, y_val, tokenizer)\n",
        "\n",
        "train_dataloader = DataLoader(train_dataset, batch_size=16, shuffle=True)\n",
        "val_dataloader = DataLoader(val_dataset, batch_size=16)\n",
        "\n",
        "test_dataset = FakeNewsDataset(X_test, y_test, tokenizer)\n",
        "test_dataloader = DataLoader(test_dataset, batch_size=16)"
      ],
      "metadata": {
        "id": "LifhejiN3FyZ"
      },
      "execution_count": null,
      "outputs": []
    },
    {
      "cell_type": "markdown",
      "source": [
        "## Model Configuration"
      ],
      "metadata": {
        "id": "ysLVkD2flzGe"
      }
    },
    {
      "cell_type": "code",
      "source": [
        "model = AutoModelForSequenceClassification.from_pretrained(model_name, num_labels=2)"
      ],
      "metadata": {
        "id": "2f0B2LUq3QeP"
      },
      "execution_count": null,
      "outputs": []
    },
    {
      "cell_type": "code",
      "source": [
        "device = torch.device('cuda') if torch.cuda.is_available() else torch.device('cpu')\n",
        "model = model.to(device)"
      ],
      "metadata": {
        "id": "dMUHuaXo3UAB"
      },
      "execution_count": null,
      "outputs": []
    },
    {
      "cell_type": "markdown",
      "source": [
        "## Training"
      ],
      "metadata": {
        "id": "9gCks4Z8l6Ky"
      }
    },
    {
      "cell_type": "code",
      "source": [
        "optimizer = AdamW(model.parameters(), lr=2e-5, eps=1e-8)"
      ],
      "metadata": {
        "id": "7ik4D3sy3W3E"
      },
      "execution_count": null,
      "outputs": []
    },
    {
      "cell_type": "code",
      "source": [
        "def train_epoch(model, dataloader, optimizer, device):\n",
        "    model = model.train()\n",
        "    total_loss = 0\n",
        "    correct_predictions = 0\n",
        "    total_samples = 0\n",
        "\n",
        "    for batch in tqdm(dataloader, desc=\"Training\"):\n",
        "        input_ids = batch['input_ids'].to(device)\n",
        "        attention_mask = batch['attention_mask'].to(device)\n",
        "        labels = batch['label'].to(device)\n",
        "\n",
        "        optimizer.zero_grad()\n",
        "\n",
        "        # Forward pass\n",
        "        outputs = model(input_ids, attention_mask=attention_mask, labels=labels)\n",
        "        loss = outputs.loss\n",
        "        logits = outputs.logits\n",
        "\n",
        "        total_loss += loss.item()\n",
        "\n",
        "        # Predicciones\n",
        "        _, preds = torch.max(logits, dim=1)\n",
        "        correct_predictions += torch.sum(preds == labels)\n",
        "        total_samples += len(labels)\n",
        "\n",
        "        # Backward pass\n",
        "        loss.backward()\n",
        "        optimizer.step()\n",
        "\n",
        "    avg_loss = total_loss / len(dataloader)\n",
        "    accuracy = correct_predictions.double() / total_samples\n",
        "    return avg_loss, accuracy"
      ],
      "metadata": {
        "id": "mnDvOwKc3-u4"
      },
      "execution_count": null,
      "outputs": []
    },
    {
      "cell_type": "markdown",
      "source": [
        "### Evaluation"
      ],
      "metadata": {
        "id": "L7xbbHL3l-v4"
      }
    },
    {
      "cell_type": "code",
      "source": [
        "def eval_model(model, dataloader, device):\n",
        "    model = model.eval()\n",
        "    total_loss = 0\n",
        "    correct_predictions = 0\n",
        "    total_samples = 0\n",
        "\n",
        "    with torch.no_grad():\n",
        "        for batch in tqdm(dataloader, desc=\"Evaluating\"):\n",
        "            input_ids = batch['input_ids'].to(device)\n",
        "            attention_mask = batch['attention_mask'].to(device)\n",
        "            labels = batch['label'].to(device)\n",
        "\n",
        "            # Forward pass\n",
        "            outputs = model(input_ids, attention_mask=attention_mask, labels=labels)\n",
        "            loss = outputs.loss\n",
        "            logits = outputs.logits\n",
        "\n",
        "            total_loss += loss.item()\n",
        "\n",
        "            # Predicciones\n",
        "            _, preds = torch.max(logits, dim=1)\n",
        "            correct_predictions += torch.sum(preds == labels)\n",
        "            total_samples += len(labels)\n",
        "\n",
        "    avg_loss = total_loss / len(dataloader)\n",
        "    accuracy = correct_predictions.double() / total_samples\n",
        "    return avg_loss, accuracy\n"
      ],
      "metadata": {
        "id": "WnY4MsX84CpJ"
      },
      "execution_count": null,
      "outputs": []
    },
    {
      "cell_type": "markdown",
      "source": [
        "### Finetuning"
      ],
      "metadata": {
        "id": "iMA2u6icmBu9"
      }
    },
    {
      "cell_type": "code",
      "source": [
        "epochs = 3\n",
        "for epoch in range(epochs):\n",
        "    print(f\"\\nEpoch {epoch + 1}/{epochs}\")\n",
        "\n",
        "    # Entrenamiento\n",
        "    train_loss, train_accuracy = train_epoch(model, train_dataloader, optimizer, device)\n",
        "    print(f\"Train Loss: {train_loss:.4f}, Train Accuracy: {train_accuracy:.4f}\")\n",
        "\n",
        "    # Evaluación\n",
        "    val_loss, val_accuracy = eval_model(model, val_dataloader, device)\n",
        "    print(f\"Val Loss: {val_loss:.4f}, Val Accuracy: {val_accuracy:.4f}\")\n",
        "\n",
        "# 7. Guardar el modelo fine-tuneado\n",
        "model.save_pretrained(\"fine_tuned_bertin_fake_news\")\n",
        "tokenizer.save_pretrained(\"fine_tuned_bertin_fake_news\")\n"
      ],
      "metadata": {
        "id": "tURz9Vlp4HBq"
      },
      "execution_count": null,
      "outputs": []
    },
    {
      "cell_type": "markdown",
      "source": [
        "## Testing"
      ],
      "metadata": {
        "id": "Nblihv2UOONa"
      }
    },
    {
      "cell_type": "code",
      "source": [
        "from sklearn.metrics import classification_report\n",
        "from tqdm import tqdm\n",
        "\n",
        "def get_predictions(model, dataloader, device):\n",
        "    model.eval()\n",
        "    all_preds = []\n",
        "    all_labels = []\n",
        "\n",
        "    with torch.no_grad():\n",
        "        for batch in tqdm(dataloader, desc=\"Evaluating\"):\n",
        "            input_ids = batch['input_ids'].to(device)\n",
        "            attention_mask = batch['attention_mask'].to(device)\n",
        "            labels = batch['label'].to(device)\n",
        "\n",
        "            outputs = model(input_ids=input_ids, attention_mask=attention_mask)\n",
        "            logits = outputs.logits\n",
        "\n",
        "            _, preds = torch.max(logits, dim=1)\n",
        "\n",
        "            all_preds.extend(preds.cpu().numpy())\n",
        "            all_labels.extend(labels.cpu().numpy())\n",
        "\n",
        "    return all_preds, all_labels\n"
      ],
      "metadata": {
        "id": "_i6Zq0ZqOP_f"
      },
      "execution_count": null,
      "outputs": []
    },
    {
      "cell_type": "code",
      "source": [
        "# Getting preditions with the test data\n",
        "preds, trues = get_predictions(model, test_dataloader, device)\n",
        "\n",
        "# Metrics\n",
        "from sklearn.metrics import classification_report\n",
        "print(classification_report(trues, preds, digits=4))\n"
      ],
      "metadata": {
        "id": "ayAGMtY0OVVk"
      },
      "execution_count": null,
      "outputs": []
    },
    {
      "cell_type": "markdown",
      "source": [
        "Reporting the results"
      ],
      "metadata": {
        "id": "XWHIKXNpmNHU"
      }
    },
    {
      "cell_type": "code",
      "source": [
        "report_dict = classification_report(trues, preds, output_dict=True)\n",
        "\n",
        "df_report = pd.DataFrame(report_dict).transpose()\n",
        "df_report = df_report.round(4)\n",
        "\n",
        "from IPython.display import display\n",
        "display(df_report)"
      ],
      "metadata": {
        "id": "vbh693OdmL8U"
      },
      "execution_count": null,
      "outputs": []
    },
    {
      "cell_type": "code",
      "source": [
        "# Guardando los resultados\n",
        "def save_metrics(trues, preds, model_name=\"model\", csv_path=\"bertin_metrics.csv\"):\n",
        "    report = classification_report(trues, preds, digits=4, output_dict=True)\n",
        "    row = {\n",
        "        \"Model\": model_name,\n",
        "        \"Accuracy\": report[\"accuracy\"],\n",
        "        \"Weighted Precision\": report[\"weighted avg\"][\"precision\"],\n",
        "        \"Weighted Recall\": report[\"weighted avg\"][\"recall\"],\n",
        "        \"Macro F1\": report[\"macro avg\"][\"f1-score\"],\n",
        "        \"Class 0 F1\": report[\"0\"][\"f1-score\"],\n",
        "        \"Class 1 F1\": report[\"1\"][\"f1-score\"]\n",
        "    }\n",
        "    df = pd.DataFrame([row])\n",
        "    df.to_csv(csv_path, index=False)\n",
        "    print(f\"Métricas guardadas en '{csv_path}'\")"
      ],
      "metadata": {
        "id": "DInmIxrS1Y3d"
      },
      "execution_count": null,
      "outputs": []
    },
    {
      "cell_type": "code",
      "source": [
        "save_metrics(trues, preds, model_name=\"bertin\")"
      ],
      "metadata": {
        "id": "nIF_v6iQ1d04"
      },
      "execution_count": null,
      "outputs": []
    }
  ]
}
